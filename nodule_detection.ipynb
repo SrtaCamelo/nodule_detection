{
  "nbformat": 4,
  "nbformat_minor": 0,
  "metadata": {
    "colab": {
      "name": "nodule_detection.ipynb",
      "provenance": [],
      "authorship_tag": "ABX9TyOXtJtsVW6NFLWrklltJbpQ",
      "include_colab_link": true
    },
    "kernelspec": {
      "name": "python3",
      "display_name": "Python 3"
    },
    "language_info": {
      "name": "python"
    }
  },
  "cells": [
    {
      "cell_type": "markdown",
      "metadata": {
        "id": "view-in-github",
        "colab_type": "text"
      },
      "source": [
        "<a href=\"https://colab.research.google.com/github/SrtaCamelo/nodule_detection/blob/main/nodule_detection.ipynb\" target=\"_parent\"><img src=\"https://colab.research.google.com/assets/colab-badge.svg\" alt=\"Open In Colab\"/></a>"
      ]
    },
    {
      "cell_type": "markdown",
      "metadata": {
        "id": "eUCxfjSPWtqk"
      },
      "source": [
        "# Nodule Detection on LUNA images using UNET variations"
      ]
    },
    {
      "cell_type": "code",
      "metadata": {
        "colab": {
          "base_uri": "https://localhost:8080/"
        },
        "id": "X2z4MdlRVNKo",
        "outputId": "e29e0ed3-cd01-4303-9ce2-1e399d2157b5"
      },
      "source": [
        "!git clone https://github.com/SrtaCamelo/nodule_detection\n"
      ],
      "execution_count": 1,
      "outputs": [
        {
          "output_type": "stream",
          "text": [
            "Cloning into 'nodule_detection'...\n",
            "remote: Enumerating objects: 1700, done.\u001b[K\n",
            "remote: Counting objects: 100% (1700/1700), done.\u001b[K\n",
            "remote: Compressing objects: 100% (1696/1696), done.\u001b[K\n",
            "remote: Total 1700 (delta 2), reused 1693 (delta 1), pack-reused 0\u001b[K\n",
            "Receiving objects: 100% (1700/1700), 4.87 MiB | 30.62 MiB/s, done.\n",
            "Resolving deltas: 100% (2/2), done.\n"
          ],
          "name": "stdout"
        }
      ]
    },
    {
      "cell_type": "code",
      "metadata": {
        "id": "c2yPZRD_aDaY"
      },
      "source": [
        "import cv2\n",
        "import matplotlib.pyplot as plt\n",
        "import keras_preprocessing\n",
        "import tensorflow as tf"
      ],
      "execution_count": 40,
      "outputs": []
    },
    {
      "cell_type": "code",
      "metadata": {
        "colab": {
          "base_uri": "https://localhost:8080/",
          "height": 301
        },
        "id": "4Xs2TC6IbceU",
        "outputId": "6f908aff-41fd-4bf6-fd46-d8179c6d514a"
      },
      "source": [
        "path_non = \"nodule_detection/data/nan_nodule/diagx11.3.6.1.4.1.14519.5.2.1.6279.6001.100225287222365663678666836860.png\" \n",
        "path_nod = \"nodule_detection/data/nan_nodule/diagx11.3.6.1.4.1.14519.5.2.1.6279.6001.100225287222365663678666836860.png\" \n",
        "\n",
        "img_nan = cv2.imread(path_non)\n",
        "img_nodule = cv2.imread(path_nod)\n",
        "\n",
        "\n",
        "fig, axes = plt.subplots(1, 2, figsize=(10, 5))\n",
        "ax = axes.ravel()\n",
        "ax[0].imshow(img_nan)\n",
        "ax[0].set_title('Sem nódulo')\n",
        "ax[0].set_axis_off()\n",
        "\n",
        "ax[1].imshow(img_nodule)\n",
        "ax[1].set_title('Com nódulo')\n",
        "ax[1].set_axis_off()\n",
        "\n"
      ],
      "execution_count": 37,
      "outputs": [
        {
          "output_type": "display_data",
          "data": {
            "image/png": "[encoded data removed]",
            "text/plain": [
              "<Figure size 720x360 with 2 Axes>"
            ]
          },
          "metadata": {
            "tags": [],
            "needs_background": "light"
          }
        }
      ]
    },
    {
      "cell_type": "code",
      "metadata": {
        "id": "4UyJAmNIjlY2"
      },
      "source": [
        "main_path = \"nodule_detection/data/\"\n",
        "files = ['nan_nodule','nodule']"
      ],
      "execution_count": 42,
      "outputs": []
    },
    {
      "cell_type": "code",
      "metadata": {
        "id": "hKhDPu3nj5-6",
        "outputId": "41a98512-2db1-4b7c-9018-2f18ae333d2c",
        "colab": {
          "base_uri": "https://localhost:8080/"
        }
      },
      "source": [
        "tf.keras.preprocessing.image_dataset_from_directory(main_path, labels='inferred')"
      ],
      "execution_count": 45,
      "outputs": [
        {
          "output_type": "stream",
          "text": [
            "Found 1800 files belonging to 3 classes.\n"
          ],
          "name": "stdout"
        },
        {
          "output_type": "execute_result",
          "data": {
            "text/plain": [
              "<BatchDataset shapes: ((None, 256, 256, 3), (None,)), types: (tf.float32, tf.int32)>"
            ]
          },
          "metadata": {
            "tags": []
          },
          "execution_count": 45
        }
      ]
    }
  ]
}